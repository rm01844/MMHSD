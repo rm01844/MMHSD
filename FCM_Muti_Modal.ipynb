{
  "nbformat": 4,
  "nbformat_minor": 0,
  "metadata": {
    "colab": {
      "provenance": [],
      "machine_shape": "hm",
      "gpuType": "T4"
    },
    "kernelspec": {
      "name": "python3",
      "display_name": "Python 3"
    },
    "language_info": {
      "name": "python"
    },
    "accelerator": "GPU"
  },
  "cells": [
    {
      "cell_type": "markdown",
      "source": [
        "# **UTILS**"
      ],
      "metadata": {
        "id": "7xsDg_mz1UW1"
      }
    },
    {
      "cell_type": "code",
      "source": [
        "import os\n",
        "\n",
        "\n",
        "!unzip /content/drive/MyDrive/img_resized.zip\n",
        "!unzip /content/drive/MyDrive/img_txt.zip\n",
        "print(len(os.listdir('/content/img_resized')))\n",
        "print(len(os.listdir('/content/img_txt')))\n",
        "!cp /content/drive/MyDrive/hate_speech/hate_speech_data/MMHS150K_GT.json /content"
      ],
      "metadata": {
        "id": "F1_8BYn01X3S"
      },
      "execution_count": null,
      "outputs": []
    },
    {
      "cell_type": "markdown",
      "source": [
        "# **DEPENDENCIES**"
      ],
      "metadata": {
        "id": "2kGPZ4dAFF9y"
      }
    },
    {
      "cell_type": "code",
      "source": [
        "!pip install easyocr tqdm"
      ],
      "metadata": {
        "id": "XA6XkV5Mxzcc"
      },
      "execution_count": null,
      "outputs": []
    },
    {
      "cell_type": "code",
      "source": [
        "import torch\n",
        "import torch.nn as nn\n",
        "from torch.utils.data import Dataset\n",
        "import pandas as pd\n",
        "import torchvision.models as models\n",
        "from torch.utils.data import DataLoader\n",
        "from torchvision import transforms\n",
        "import torch.nn.functional as F\n",
        "import torch.optim as optim\n",
        "import re\n",
        "from PIL import Image\n",
        "from torchtext.vocab import GloVe\n",
        "from torch.utils.data import random_split\n",
        "import easyocr\n",
        "import cv2\n",
        "import json\n",
        "import nltk\n",
        "from nltk.stem import WordNetLemmatizer\n",
        "from nltk.tokenize import word_tokenize\n",
        "from sklearn.metrics import f1_score, roc_auc_score\n",
        "from torch.nn.utils.rnn import pad_sequence\n",
        "import random\n",
        "from tqdm import tqdm\n",
        "random.seed(42)\n",
        "UNK_PROPORTION = 0.01"
      ],
      "metadata": {
        "id": "eOLInZn_x10w"
      },
      "execution_count": null,
      "outputs": []
    },
    {
      "cell_type": "code",
      "source": [
        "reader = easyocr.Reader(['en'])\n",
        "glove_embeddings = GloVe(name='twitter.27B', dim=100)\n",
        "nltk.download('wordnet')\n",
        "nltk.download('punkt')\n",
        "lemmatizer = WordNetLemmatizer()\n",
        "device = torch.device(\"cuda\" if torch.cuda.is_available() else \"cpu\")"
      ],
      "metadata": {
        "id": "eLGNAN_nyE_W"
      },
      "execution_count": null,
      "outputs": []
    },
    {
      "cell_type": "code",
      "source": [
        "unk_embedding = torch.mean(glove_embeddings.vectors, dim=0)\n",
        "glove_embeddings.itos.append('<unk>')\n",
        "glove_embeddings.stoi['<unk>'] = len(glove_embeddings.itos) - 1\n",
        "glove_embeddings.vectors = torch.cat([glove_embeddings.vectors, unk_embedding.unsqueeze(0)], dim=0)"
      ],
      "metadata": {
        "id": "158QH9PGy43o"
      },
      "execution_count": null,
      "outputs": []
    },
    {
      "cell_type": "code",
      "source": [
        "glove_embeddings.vectors.shape"
      ],
      "metadata": {
        "colab": {
          "base_uri": "https://localhost:8080/"
        },
        "id": "zYuJR3V8y8Zq",
        "outputId": "65ad1b7b-6ae1-4782-db9f-4f835f194c98"
      },
      "execution_count": null,
      "outputs": [
        {
          "output_type": "execute_result",
          "data": {
            "text/plain": [
              "torch.Size([1193515, 100])"
            ]
          },
          "metadata": {},
          "execution_count": 11
        }
      ]
    },
    {
      "cell_type": "code",
      "source": [
        "def get_ocr_text(image_path):\n",
        "\n",
        "    text_data = []\n",
        "    # Read an image\n",
        "    image = cv2.imread(image_path)\n",
        "\n",
        "    # Perform OCR on the image\n",
        "    result = reader.readtext(image)\n",
        "    for (bbox, text, prob) in result:\n",
        "        text_data.append(text)\n",
        "\n",
        "\n",
        "    sentence = ' '.join(text_data)\n",
        "    print(sentence)\n",
        "    # image = cv2.imread(test_file)\n",
        "    # cv2_imshow(image)\n",
        "    return sentence"
      ],
      "metadata": {
        "id": "TMuKPcdxx7Tz"
      },
      "execution_count": null,
      "outputs": []
    },
    {
      "cell_type": "markdown",
      "source": [
        "# **DATA ANALYSIS**"
      ],
      "metadata": {
        "id": "nw0iIjF9neEM"
      }
    },
    {
      "cell_type": "markdown",
      "source": [
        "# **DATA LOADER**"
      ],
      "metadata": {
        "id": "ana0IuX_xtUd"
      }
    },
    {
      "cell_type": "code",
      "source": [
        "image_transform = transforms.Compose([\n",
        "    transforms.Resize(500),\n",
        "    transforms.RandomCrop(299),\n",
        "    transforms.RandomHorizontalFlip(),\n",
        "    transforms.Lambda(lambda x: x.convert(\"RGB\")),  # Convert grayscale to RGB\n",
        "    transforms.ToTensor(),\n",
        "    transforms.Normalize(mean=[0.485, 0.456, 0.406], std=[0.229, 0.224, 0.225])  # Normalize the image\n",
        "])\n",
        "\n",
        "\n",
        "def remove_url(text):\n",
        "    url_pattern = re.compile(r'https?://\\S+|www\\.\\S+')\n",
        "    no_url_text = url_pattern.sub(r'', text)\n",
        "    return no_url_text\n",
        "\n",
        "def pad_collate(batch):\n",
        "    (img, text, ocr_text, label) = zip(*batch)\n",
        "\n",
        "    img = torch.stack(img)\n",
        "    label = torch.stack(label)\n",
        "\n",
        "    text_pad = pad_sequence([t for t in text], batch_first=True, padding_value=0)\n",
        "    ocr_text_pad = pad_sequence([o for o in ocr_text], batch_first=True, padding_value=0)\n",
        "\n",
        "    return img, text_pad, ocr_text_pad, label\n",
        "\n",
        "\n",
        "def load_dataset(file_path):\n",
        "    # Load data\n",
        "    with open(file_path, 'r') as f:\n",
        "        data_dict = json.load(f)\n",
        "    print(len(data_dict))\n",
        "    # Process data and create examples\n",
        "    data = {'id': [], 'text': [], 'label': []}\n",
        "    for key, value in data_dict.items():\n",
        "        # append the key to the 'id' list\n",
        "        data['id'].append(key)\n",
        "        text = remove_url(value['tweet_text'])  # Assuming remove_url is a function you've defined elsewhere\n",
        "        label_list = [1 if num != 0 else 0 for num in value['labels']]\n",
        "        label = max(set(label_list), key=label_list.count)\n",
        "        data['text'].append(text)\n",
        "        data['label'].append(label)\n",
        "\n",
        "    # Create DataFrame\n",
        "    df = pd.DataFrame(data)\n",
        "\n",
        "    return df\n",
        "\n",
        "\n",
        "def preprocess_text(text):\n",
        "    text = text.lower()  # Convert to lowercase\n",
        "    text = re.sub(r'@\\w+', '@USER', text)   # Replace usernames\n",
        "    text = re.sub(r'#\\w+', '#HASHTAG', text)  # Replace hashtags\n",
        "    words = word_tokenize(text)\n",
        "    words = [lemmatizer.lemmatize(word) for word in words]  # Lemmatize words\n",
        "    words = ['<unk>' if random.random() < UNK_PROPORTION else word for word in words]  # Replace a proportion of words with <unk>\n",
        "    return ' '.join(words)\n",
        "\n",
        "def transform_text(preprocessed_text):\n",
        "    text = preprocess_text(preprocessed_text)\n",
        "    vectorized_text = []\n",
        "    if text.strip():  # check if text is not empty or not just whitespace\n",
        "        for word in text.split():\n",
        "            if word in glove_embeddings.stoi:\n",
        "                vectorized_text.append(glove_embeddings.vectors[glove_embeddings.stoi[word]])\n",
        "            else:\n",
        "                vectorized_text.append(glove_embeddings.vectors[glove_embeddings.stoi['<unk>']])  # Use <unk> embedding for unseen words\n",
        "        vectorized_text = torch.stack(vectorized_text)\n",
        "    else:\n",
        "        vectorized_text = torch.zeros((1, glove_embeddings.vectors.shape[1]))  # return tensor with shape (1, embedding_dim) with zeros\n",
        "\n",
        "    return vectorized_text"
      ],
      "metadata": {
        "id": "qhNrytor1vc5"
      },
      "execution_count": null,
      "outputs": []
    },
    {
      "cell_type": "code",
      "source": [
        "data = load_dataset('/content/MMHS150K_GT.json')"
      ],
      "metadata": {
        "colab": {
          "base_uri": "https://localhost:8080/"
        },
        "id": "ATchVOBi2KSn",
        "outputId": "50e3c5cc-61df-4d0e-da1a-dff938ca3a97"
      },
      "execution_count": null,
      "outputs": [
        {
          "output_type": "stream",
          "name": "stdout",
          "text": [
            "149823\n"
          ]
        }
      ]
    },
    {
      "cell_type": "code",
      "source": [
        "class FCM_Dataset(Dataset):\n",
        "    def __init__(self, dataframe, img_dir, ocr_dir, text_transform=None, img_transform=None):\n",
        "        \"\"\"\n",
        "        Args:\n",
        "            dataframe (pandas.DataFrame): A pandas dataframe with columns ['id', 'text', 'label'].\n",
        "            img_dir (str): Directory with all the images.\n",
        "            ocr_dir (str): Directory with all the OCR text json files.\n",
        "            text_transform (callable, optional): Optional transform to be applied on the text data.\n",
        "            img_transform (callable, optional): Optional transform to be applied on the image data.\n",
        "        \"\"\"\n",
        "        self.df = dataframe\n",
        "        self.img_dir = img_dir\n",
        "        self.ocr_dir = ocr_dir\n",
        "        self.text_transform = text_transform\n",
        "        self.img_transform = img_transform\n",
        "\n",
        "    def __len__(self):\n",
        "        return len(self.df)\n",
        "\n",
        "    def __getitem__(self, idx):\n",
        "        if torch.is_tensor(idx):\n",
        "            idx = idx.tolist()\n",
        "\n",
        "        img_name = os.path.join(self.img_dir, f\"{self.df.iloc[idx, 0]}.jpg\")\n",
        "        img = Image.open(img_name)\n",
        "\n",
        "        if self.img_transform:\n",
        "            img = self.img_transform(img)\n",
        "\n",
        "        ocr_file = os.path.join(self.ocr_dir, f\"{self.df.iloc[idx, 0]}.json\")\n",
        "        if os.path.exists(ocr_file):\n",
        "            with open(ocr_file, 'r') as f:\n",
        "                ocr_data = json.load(f)\n",
        "                ocr_text = ocr_data['img_text']\n",
        "        else:\n",
        "            ocr_text = \"\"  # if no OCR text available, set it to empty string\n",
        "\n",
        "        text = self.df.iloc[idx, 1]\n",
        "\n",
        "        if self.text_transform:\n",
        "            text = self.text_transform(text)\n",
        "            ocr_text = self.text_transform(ocr_text)\n",
        "\n",
        "        label = self.df.iloc[idx, 2]\n",
        "\n",
        "        return img, text, ocr_text, torch.tensor(label, dtype=torch.long)\n"
      ],
      "metadata": {
        "id": "KKeAbYDU2Ty5"
      },
      "execution_count": null,
      "outputs": []
    },
    {
      "cell_type": "code",
      "source": [
        "# Assuming you have your dataframe, image directory and ocr text directory\n",
        "image_directory = '/content/img_resized'\n",
        "ocr_text_directory = '/content/img_txt'\n",
        "\n",
        "# Create dataset\n",
        "fcm_dataset = FCM_Dataset(data, image_directory, ocr_text_directory, img_transform=image_transform,text_transform=transform_text)\n",
        "\n",
        "# Get the lengths of splits\n",
        "total_len = len(fcm_dataset)\n",
        "print(total_len)\n",
        "train_len = int(0.7 * total_len)\n",
        "val_len = int(0.2 * total_len)\n",
        "test_len = total_len - train_len - val_len  # Assign remaining data to test set\n",
        "\n",
        "# Create random splits\n",
        "train_data, val_data, test_data = random_split(fcm_dataset, lengths=[train_len, val_len, test_len])\n",
        "\n",
        "# Create DataLoaders for each split\n",
        "train_dataloader = DataLoader(train_data, batch_size=10, shuffle=True, num_workers=0, collate_fn=pad_collate)\n",
        "val_dataloader = DataLoader(val_data, batch_size=10, shuffle=True, num_workers=0, collate_fn=pad_collate)\n",
        "test_dataloader = DataLoader(test_data, batch_size=10, shuffle=True, num_workers=0, collate_fn=pad_collate)\n"
      ],
      "metadata": {
        "colab": {
          "base_uri": "https://localhost:8080/"
        },
        "id": "RW2_P59z4tFF",
        "outputId": "eea17479-da0a-4f3f-edff-fcfa29cfb150"
      },
      "execution_count": null,
      "outputs": [
        {
          "output_type": "stream",
          "name": "stdout",
          "text": [
            "149823\n"
          ]
        }
      ]
    },
    {
      "cell_type": "code",
      "source": [
        "for img, text, ocr, label in train_dataloader:\n",
        "    print(\"Image shape: \", img.shape)\n",
        "    print(\"Text: \", text.shape)\n",
        "    print(\"OCR: \", ocr.shape)\n",
        "    print(\"Label: \", label)\n",
        "    break"
      ],
      "metadata": {
        "colab": {
          "base_uri": "https://localhost:8080/"
        },
        "id": "hQDNagWK5XZ8",
        "outputId": "7a060cba-4f44-43dd-915c-e9941c4a7c60"
      },
      "execution_count": null,
      "outputs": [
        {
          "output_type": "stream",
          "name": "stdout",
          "text": [
            "Image shape:  torch.Size([10, 3, 299, 299])\n",
            "Text:  torch.Size([10, 32, 100])\n",
            "OCR:  torch.Size([10, 5, 100])\n",
            "Label:  tensor([0, 0, 0, 0, 1, 0, 1, 0, 0, 0])\n"
          ]
        }
      ]
    },
    {
      "cell_type": "markdown",
      "source": [
        "# **TEXT MODEL - LSTM**"
      ],
      "metadata": {
        "id": "_gUudjTyujI4"
      }
    },
    {
      "cell_type": "code",
      "source": [
        "EMBEDDING_DIM = 100\n",
        "HIDDEN_DIM = 150\n",
        "N_LAYERS = 1\n",
        "DROPOUT = 0.25\n",
        "\n",
        "class TextFeatureExtractor(nn.Module):\n",
        "    def __init__(self, embedding_dim, hidden_dim):\n",
        "        super().__init__()\n",
        "        self.hidden_dim = hidden_dim\n",
        "        self.lstm = nn.LSTM(embedding_dim, hidden_dim, batch_first=True, bidirectional=True)\n",
        "        self.fc1 = nn.Linear(2*hidden_dim, 150)\n",
        "        self.dropout = nn.Dropout(DROPOUT)\n",
        "\n",
        "    def forward(self, x):\n",
        "        lstm_out, _ = self.lstm(x)\n",
        "        # We concatenate the final forward (lstm_out[:, -1, :self.hidden_dim]) and backward (lstm_out[:, 0, self.hidden_dim:]) hidden layer outputs\n",
        "        lstm_out = torch.cat((lstm_out[:, -1, :self.hidden_dim], lstm_out[:, 0, self.hidden_dim:]), dim=1)\n",
        "        lstm_out = self.dropout(lstm_out)\n",
        "        fc_out = self.fc1(lstm_out)\n",
        "        return fc_out"
      ],
      "metadata": {
        "id": "dlPTEHq3oHtL"
      },
      "execution_count": null,
      "outputs": []
    },
    {
      "cell_type": "code",
      "source": [
        "textFeatureExtractorModel = TextFeatureExtractor(EMBEDDING_DIM, HIDDEN_DIM,).to(device)"
      ],
      "metadata": {
        "id": "NeUDng59GiZt"
      },
      "execution_count": null,
      "outputs": []
    },
    {
      "cell_type": "code",
      "source": [
        "pretrained_dict = torch.load(\"model_state_dict.pth\", map_location=torch.device('cpu'))\n",
        "textFeatureExtractorModel_dict = textFeatureExtractorModel.state_dict()\n",
        "pretrained_dict = {k: v for k, v in pretrained_dict.items() if k in textFeatureExtractorModel_dict}\n",
        "textFeatureExtractorModel_dict.update(pretrained_dict)\n",
        "textFeatureExtractorModel.load_state_dict(textFeatureExtractorModel_dict)"
      ],
      "metadata": {
        "colab": {
          "base_uri": "https://localhost:8080/"
        },
        "id": "g5JsorzCG03v",
        "outputId": "046e4501-8477-4944-88f3-7a738b2b8149"
      },
      "execution_count": null,
      "outputs": [
        {
          "output_type": "execute_result",
          "data": {
            "text/plain": [
              "<All keys matched successfully>"
            ]
          },
          "metadata": {},
          "execution_count": 184
        }
      ]
    },
    {
      "cell_type": "markdown",
      "source": [
        "# **IMAGE MODEL - INCEPTION**"
      ],
      "metadata": {
        "id": "DQfA6Ih4uqXH"
      }
    },
    {
      "cell_type": "code",
      "source": [
        "# Load the pre-trained weights of the Inception v3 model\n",
        "inception = models.inception_v3(weights=\"Inception_V3_Weights.IMAGENET1K_V1\", transform_input=False).to(device)\n",
        "inception.fc = nn.Identity()"
      ],
      "metadata": {
        "id": "7AU1bbE9H-Ck"
      },
      "execution_count": null,
      "outputs": []
    },
    {
      "cell_type": "markdown",
      "source": [
        "# **FCM MODEL**"
      ],
      "metadata": {
        "id": "LVvuv7lBIQeC"
      }
    },
    {
      "cell_type": "code",
      "source": [
        "class FCModel(nn.Module):\n",
        "    def __init__(self, text_model, image_model):\n",
        "        super().__init__()\n",
        "        self.text_model = text_model\n",
        "        self.image_model = image_model\n",
        "        self.fc1 = nn.Linear(2348, 1024)\n",
        "        self.bn1 = nn.BatchNorm1d(1024)  # BatchNorm after fc1\n",
        "        self.fc2 = nn.Linear(1024, 512)\n",
        "        self.bn2 = nn.BatchNorm1d(512)  # BatchNorm after fc2\n",
        "        self.out = nn.Linear(512, 2)\n",
        "\n",
        "        # Initialize weights and bias\n",
        "        nn.init.kaiming_normal_(self.fc1.weight)\n",
        "        nn.init.constant_(self.fc1.bias, 0)\n",
        "\n",
        "        nn.init.kaiming_normal_(self.fc2.weight)\n",
        "        nn.init.constant_(self.fc2.bias, 0)\n",
        "\n",
        "        nn.init.kaiming_normal_(self.out.weight)\n",
        "        nn.init.constant_(self.out.bias, 0)\n",
        "\n",
        "    def forward(self, img_in, text_in, ocr_text_in):\n",
        "        img_in = self.image_model(img_in)  # (B, 2048)\n",
        "        text_in = self.text_model(text_in)  # (B, 150)\n",
        "        ocr_text_in = self.text_model(ocr_text_in)  # (B, 150)\n",
        "\n",
        "        if self.training:\n",
        "            x = torch.cat((img_in.logits, ocr_text_in, text_in), dim=1)  # (B, 2348)\n",
        "        else:\n",
        "             x = torch.cat((img_in, ocr_text_in, text_in), dim=1)  # (B, 2348)\n",
        "\n",
        "        x = F.relu(self.bn1(self.fc1(x)))  # Use ReLU after BatchNorm and fc1\n",
        "        x = F.relu(self.bn2(self.fc2(x)))  # Use ReLU after BatchNorm and fc2\n",
        "        x = self.out(x)\n",
        "\n",
        "        return x"
      ],
      "metadata": {
        "id": "N0m_cTRNIVDy"
      },
      "execution_count": null,
      "outputs": []
    },
    {
      "cell_type": "code",
      "source": [
        "model = FCModel(textFeatureExtractorModel, inception).to(device)"
      ],
      "metadata": {
        "id": "wEfpA-ocPDdg"
      },
      "execution_count": null,
      "outputs": []
    },
    {
      "cell_type": "code",
      "source": [
        "class_weights = [1 / 75.327553, 1 / 24.672447]\n",
        "class_weights = torch.tensor(class_weights)\n",
        "class_weights = class_weights / class_weights.sum()\n",
        "class_weights = class_weights.to(device)\n"
      ],
      "metadata": {
        "id": "3w3ngLpVqF4l"
      },
      "execution_count": null,
      "outputs": []
    },
    {
      "cell_type": "code",
      "source": [
        "# Define loss function\n",
        "criterion = nn.CrossEntropyLoss(weight=class_weights)\n",
        "\n",
        "# Define optimizer\n",
        "optimizer = torch.optim.Adam(model.parameters(), lr=1e-4)\n",
        "\n",
        "# (Optional) Define learning rate scheduler\n",
        "scheduler = torch.optim.lr_scheduler.StepLR(optimizer, step_size=5, gamma=0.1)"
      ],
      "metadata": {
        "id": "N0jCHGICpn_6"
      },
      "execution_count": null,
      "outputs": []
    },
    {
      "cell_type": "code",
      "source": [
        "def validate_model(model, dataloader, criterion):\n",
        "    model.eval()\n",
        "    running_loss = 0\n",
        "    correct_predictions = 0\n",
        "    all_preds = []\n",
        "    all_labels = []\n",
        "\n",
        "    val_loop = tqdm(enumerate(dataloader), total=len(dataloader), leave=True, position=0)\n",
        "\n",
        "    with torch.no_grad():\n",
        "        for i, (img, text, text_ocr, labels) in val_loop:\n",
        "            img = img.to(device)\n",
        "            text = text.to(device)\n",
        "            text_ocr = text_ocr.to(device)\n",
        "            labels = labels.to(device)\n",
        "            outputs = model(img, text, text_ocr)\n",
        "            loss = criterion(outputs, labels)\n",
        "\n",
        "            running_loss += loss.item() * img.size(0)\n",
        "            _, preds = torch.max(outputs, 1)\n",
        "            correct_predictions += (preds == labels.data).sum().item()\n",
        "            all_preds.extend(preds.cpu().numpy())\n",
        "            all_labels.extend(labels.cpu().numpy())\n",
        "\n",
        "            val_loop.set_postfix({'validation_loss': '{:.3f}'.format(loss.item()/len(labels)),\n",
        "                                  'validation_acc': '{:.3f}'.format(correct_predictions/(len(all_preds)))})\n",
        "\n",
        "    epoch_loss = running_loss / len(dataloader.dataset)\n",
        "    epoch_acc = correct_predictions / len(dataloader.dataset)\n",
        "    val_f1 = f1_score(all_labels, all_preds)\n",
        "    val_auc = roc_auc_score(all_labels, all_preds)\n",
        "\n",
        "    return epoch_loss, epoch_acc, val_f1, val_auc\n",
        "\n",
        "\n",
        "def train_model(model, dataloader, optimizer, criterion):\n",
        "    model.train()\n",
        "    running_loss = 0\n",
        "    correct_predictions = 0\n",
        "\n",
        "    train_loop = tqdm(enumerate(dataloader), total=len(dataloader), leave=True, position=0)\n",
        "\n",
        "    for i, (img, text, text_ocr, labels) in train_loop:\n",
        "        img = img.to(device)\n",
        "        text = text.to(device)\n",
        "        text_ocr = text_ocr.to(device)\n",
        "        labels = labels.to(device)\n",
        "        optimizer.zero_grad()\n",
        "        outputs = model(img, text, text_ocr)\n",
        "        loss = criterion(outputs, labels)\n",
        "        loss.backward()\n",
        "        optimizer.step()\n",
        "\n",
        "        running_loss += loss.item() * img.size(0)\n",
        "        _, preds = torch.max(outputs, 1)\n",
        "        correct_predictions += (preds == labels.data).sum().item()\n",
        "\n",
        "        train_loop.set_postfix({'training_loss': '{:.3f}'.format(loss.item()/len(labels)),\n",
        "                                'training_acc': '{:.3f}'.format(correct_predictions/((i+1)*len(labels)))})\n",
        "\n",
        "    epoch_loss = running_loss / len(dataloader.dataset)\n",
        "    epoch_acc = correct_predictions / len(dataloader.dataset)\n",
        "\n",
        "    return epoch_loss, epoch_acc\n"
      ],
      "metadata": {
        "id": "GS3dLW-VpizQ"
      },
      "execution_count": null,
      "outputs": []
    },
    {
      "cell_type": "code",
      "source": [
        "train_loss_data = []\n",
        "train_acc_data = []\n",
        "val_loss_data = []\n",
        "val_acc_data = []\n",
        "val_f1_data = []\n",
        "val_auc_data = []"
      ],
      "metadata": {
        "id": "ju7ceQPHzvGL"
      },
      "execution_count": null,
      "outputs": []
    },
    {
      "cell_type": "code",
      "source": [
        "EPOCHS = 10  # Set the number of epochs\n",
        "\n",
        "# Variables for tracking best validation loss\n",
        "best_val_loss = float('inf')\n",
        "best_model = None\n",
        "\n",
        "for epoch in range(EPOCHS):\n",
        "    print(f'Starting epoch {epoch + 1}/{EPOCHS}')\n",
        "    print('-' * 10)\n",
        "\n",
        "    # Train the model\n",
        "    train_loss, train_acc = train_model(model, train_dataloader, optimizer, criterion)\n",
        "    train_loss_data.append(train_loss)\n",
        "    train_acc_data.append(train_acc)\n",
        "    print(f'\\nTrain loss {train_loss}, accuracy {train_acc}')\n",
        "\n",
        "    # Validate the model\n",
        "    val_loss, val_acc, val_f1, val_auc = validate_model(model, val_dataloader, criterion)\n",
        "    val_loss_data.append( val_loss)\n",
        "    val_acc_data.append(val_acc)\n",
        "    val_f1_data.append(val_f1)\n",
        "    val_auc_data.append(val_auc)\n",
        "    print(f'\\nValidation loss {val_loss}, accuracy {val_acc}, F1 {val_f1}, AUC {val_auc}')\n",
        "\n",
        "    # Check if this model is the best so far\n",
        "    if val_loss < best_val_loss:\n",
        "        print(f'New best model found (validation loss decreased from {best_val_loss} to {val_loss})')\n",
        "        best_val_loss = val_loss\n",
        "        best_model = model.state_dict()  # Save the model parameters\n",
        "\n",
        "\n",
        "    scheduler.step()\n",
        "\n",
        "print('Training complete.')"
      ],
      "metadata": {
        "colab": {
          "base_uri": "https://localhost:8080/"
        },
        "id": "cqEPgQhxpk-G",
        "outputId": "62a47df8-e3ab-45d9-b9e1-f5dc5784d010"
      },
      "execution_count": null,
      "outputs": [
        {
          "output_type": "stream",
          "name": "stdout",
          "text": [
            "Starting epoch 1/10\n",
            "----------\n"
          ]
        },
        {
          "output_type": "stream",
          "name": "stderr",
          "text": [
            "100%|██████████| 10488/10488 [35:01<00:00,  4.99it/s, training_loss=0.050, training_acc=1.373]\n"
          ]
        },
        {
          "output_type": "stream",
          "name": "stdout",
          "text": [
            "\n",
            "Train loss 0.46843066395356053, accuracy 0.8238014417025821\n"
          ]
        },
        {
          "output_type": "stream",
          "name": "stderr",
          "text": [
            "100%|██████████| 2997/2997 [04:26<00:00, 11.24it/s, validation_loss=0.036, validation_acc=0.871]\n"
          ]
        },
        {
          "output_type": "stream",
          "name": "stdout",
          "text": [
            "\n",
            "Validation loss 0.5671383232492946, accuracy 0.8711120010679482, F1 0.7254372245130101, AUC 0.8129066932244797\n",
            "New best model found (validation loss decreased from inf to 0.5671383232492946)\n",
            "Starting epoch 2/10\n",
            "----------\n"
          ]
        },
        {
          "output_type": "stream",
          "name": "stderr",
          "text": [
            "100%|██████████| 10488/10488 [34:44<00:00,  5.03it/s, training_loss=0.080, training_acc=1.409]\n"
          ]
        },
        {
          "output_type": "stream",
          "name": "stdout",
          "text": [
            "\n",
            "Train loss 0.43081502467800237, accuracy 0.8452934894542126\n"
          ]
        },
        {
          "output_type": "stream",
          "name": "stderr",
          "text": [
            "100%|██████████| 2997/2997 [04:27<00:00, 11.21it/s, validation_loss=0.231, validation_acc=0.850]\n"
          ]
        },
        {
          "output_type": "stream",
          "name": "stdout",
          "text": [
            "\n",
            "Validation loss 0.40834801680986654, accuracy 0.8499866506474436, F1 0.7218612709609555, AUC 0.8329325612086192\n",
            "New best model found (validation loss decreased from 0.5671383232492946 to 0.40834801680986654)\n",
            "Starting epoch 3/10\n",
            "----------\n"
          ]
        },
        {
          "output_type": "stream",
          "name": "stderr",
          "text": [
            "100%|██████████| 10488/10488 [34:30<00:00,  5.07it/s, training_loss=0.041, training_acc=1.425]\n"
          ]
        },
        {
          "output_type": "stream",
          "name": "stdout",
          "text": [
            "\n",
            "Train loss 0.41356303828795676, accuracy 0.8547427438117395\n"
          ]
        },
        {
          "output_type": "stream",
          "name": "stderr",
          "text": [
            "100%|██████████| 2997/2997 [04:20<00:00, 11.49it/s, validation_loss=0.072, validation_acc=0.867]\n"
          ]
        },
        {
          "output_type": "stream",
          "name": "stdout",
          "text": [
            "\n",
            "Validation loss 0.42633069350523795, accuracy 0.8671739420638099, F1 0.7328141783029001, AUC 0.8268559676884242\n",
            "Starting epoch 4/10\n",
            "----------\n"
          ]
        },
        {
          "output_type": "stream",
          "name": "stderr",
          "text": [
            "100%|██████████| 10488/10488 [34:32<00:00,  5.06it/s, training_loss=0.019, training_acc=1.448]\n"
          ]
        },
        {
          "output_type": "stream",
          "name": "stdout",
          "text": [
            "\n",
            "Train loss 0.38652721576989685, accuracy 0.8687783668332125\n"
          ]
        },
        {
          "output_type": "stream",
          "name": "stderr",
          "text": [
            "100%|██████████| 2997/2997 [04:23<00:00, 11.39it/s, validation_loss=0.132, validation_acc=0.865]\n"
          ]
        },
        {
          "output_type": "stream",
          "name": "stdout",
          "text": [
            "\n",
            "Validation loss 0.4588774066336852, accuracy 0.8648378053664397, F1 0.7272359913793103, AUC 0.8225689362364533\n",
            "Starting epoch 5/10\n",
            "----------\n"
          ]
        },
        {
          "output_type": "stream",
          "name": "stderr",
          "text": [
            "100%|██████████| 10488/10488 [34:24<00:00,  5.08it/s, training_loss=0.083, training_acc=1.462]\n"
          ]
        },
        {
          "output_type": "stream",
          "name": "stdout",
          "text": [
            "\n",
            "Train loss 0.3700653612678326, accuracy 0.8774171402418094\n"
          ]
        },
        {
          "output_type": "stream",
          "name": "stderr",
          "text": [
            "100%|██████████| 2997/2997 [04:21<00:00, 11.47it/s, validation_loss=0.390, validation_acc=0.869]\n"
          ]
        },
        {
          "output_type": "stream",
          "name": "stdout",
          "text": [
            "\n",
            "Validation loss 0.6427169515041528, accuracy 0.868575624082232, F1 0.7209862547824856, AUC 0.8105795543623784\n",
            "Starting epoch 6/10\n",
            "----------\n"
          ]
        },
        {
          "output_type": "stream",
          "name": "stderr",
          "text": [
            "100%|██████████| 10488/10488 [34:22<00:00,  5.09it/s, training_loss=0.051, training_acc=1.484]\n"
          ]
        },
        {
          "output_type": "stream",
          "name": "stdout",
          "text": [
            "\n",
            "Train loss 0.340188430693475, accuracy 0.8902132041649186\n"
          ]
        },
        {
          "output_type": "stream",
          "name": "stderr",
          "text": [
            "100%|██████████| 2997/2997 [04:21<00:00, 11.45it/s, validation_loss=0.101, validation_acc=0.859]\n"
          ]
        },
        {
          "output_type": "stream",
          "name": "stdout",
          "text": [
            "\n",
            "Validation loss 0.4879580355020462, accuracy 0.8588305967160593, F1 0.7228410431136154, AUC 0.824038719607961\n",
            "Starting epoch 7/10\n",
            "----------\n"
          ]
        },
        {
          "output_type": "stream",
          "name": "stderr",
          "text": [
            "100%|██████████| 10488/10488 [34:18<00:00,  5.10it/s, training_loss=0.059, training_acc=1.490]\n"
          ]
        },
        {
          "output_type": "stream",
          "name": "stdout",
          "text": [
            "\n",
            "Train loss 0.3320139976674218, accuracy 0.8938365307601358\n"
          ]
        },
        {
          "output_type": "stream",
          "name": "stderr",
          "text": [
            "100%|██████████| 2997/2997 [04:21<00:00, 11.47it/s, validation_loss=0.078, validation_acc=0.859]\n"
          ]
        },
        {
          "output_type": "stream",
          "name": "stdout",
          "text": [
            "\n",
            "Validation loss 0.9482968863181371, accuracy 0.8590308370044053, F1 0.7146717103485545, AUC 0.81366342882446\n",
            "Starting epoch 8/10\n",
            "----------\n"
          ]
        },
        {
          "output_type": "stream",
          "name": "stderr",
          "text": [
            "100%|██████████| 10488/10488 [34:15<00:00,  5.10it/s, training_loss=0.024, training_acc=1.492]\n"
          ]
        },
        {
          "output_type": "stream",
          "name": "stdout",
          "text": [
            "\n",
            "Train loss 0.32961590307108246, accuracy 0.8950284145085625\n"
          ]
        },
        {
          "output_type": "stream",
          "name": "stderr",
          "text": [
            "100%|██████████| 2997/2997 [04:18<00:00, 11.59it/s, validation_loss=0.021, validation_acc=0.859]\n"
          ]
        },
        {
          "output_type": "stream",
          "name": "stdout",
          "text": [
            "\n",
            "Validation loss 1.0823309338770826, accuracy 0.8591643305299693, F1 0.716702470461869, AUC 0.8159833589529629\n",
            "Starting epoch 9/10\n",
            "----------\n"
          ]
        },
        {
          "output_type": "stream",
          "name": "stderr",
          "text": [
            "100%|██████████| 10488/10488 [34:19<00:00,  5.09it/s, training_loss=0.066, training_acc=1.496]\n"
          ]
        },
        {
          "output_type": "stream",
          "name": "stdout",
          "text": [
            "\n",
            "Train loss 0.32607828757661256, accuracy 0.8975266028452649\n"
          ]
        },
        {
          "output_type": "stream",
          "name": "stderr",
          "text": [
            "100%|██████████| 2997/2997 [04:20<00:00, 11.50it/s, validation_loss=0.044, validation_acc=0.860]\n"
          ]
        },
        {
          "output_type": "stream",
          "name": "stdout",
          "text": [
            "\n",
            "Validation loss 1.739445817072112, accuracy 0.8596315578694433, F1 0.7054621848739495, AUC 0.802297469359556\n",
            "Starting epoch 10/10\n",
            "----------\n"
          ]
        },
        {
          "output_type": "stream",
          "name": "stderr",
          "text": [
            "100%|██████████| 10488/10488 [34:18<00:00,  5.09it/s, training_loss=0.047, training_acc=1.497]\n"
          ]
        },
        {
          "output_type": "stream",
          "name": "stdout",
          "text": [
            "\n",
            "Train loss 0.3216746491941444, accuracy 0.8985087150539685\n"
          ]
        },
        {
          "output_type": "stream",
          "name": "stderr",
          "text": [
            "100%|██████████| 2997/2997 [04:22<00:00, 11.43it/s, validation_loss=0.107, validation_acc=0.856]"
          ]
        },
        {
          "output_type": "stream",
          "name": "stdout",
          "text": [
            "\n",
            "Validation loss 1.6526904496691397, accuracy 0.855626752102523, F1 0.7117921385742837, AUC 0.8138314431171048\n",
            "Training complete.\n"
          ]
        },
        {
          "output_type": "stream",
          "name": "stderr",
          "text": [
            "\n"
          ]
        }
      ]
    },
    {
      "cell_type": "code",
      "source": [
        "torch.save(best_model, '/content/drive/MyDrive/hate_text_data/best_model.pth')"
      ],
      "metadata": {
        "id": "qBQFjmfef55v"
      },
      "execution_count": null,
      "outputs": []
    },
    {
      "cell_type": "code",
      "source": [
        "torch.save(best_model, '/content/drive/MyDrive/hate_text_data/model_final.pth')"
      ],
      "metadata": {
        "id": "jui33VqQgucx"
      },
      "execution_count": null,
      "outputs": []
    },
    {
      "cell_type": "code",
      "source": [
        "test_loss, test_acc, test_f1, test_auc = validate_model(model, test_dataloader, criterion)"
      ],
      "metadata": {
        "colab": {
          "base_uri": "https://localhost:8080/"
        },
        "id": "HEptWhM_hJqJ",
        "outputId": "aa70586d-03d6-4090-b6c8-61b31cc7d0ae"
      },
      "execution_count": null,
      "outputs": [
        {
          "output_type": "stream",
          "name": "stderr",
          "text": [
            "100%|██████████| 1499/1499 [02:16<00:00, 10.99it/s, validation_loss=0.026, validation_acc=0.856]\n"
          ]
        }
      ]
    },
    {
      "cell_type": "code",
      "source": [
        "test_auc"
      ],
      "metadata": {
        "colab": {
          "base_uri": "https://localhost:8080/"
        },
        "id": "J6j-8D2Qh6L4",
        "outputId": "d6159544-06a3-4979-c141-4f20064efce6"
      },
      "execution_count": null,
      "outputs": [
        {
          "output_type": "execute_result",
          "data": {
            "text/plain": [
              "0.8165268550311284"
            ]
          },
          "metadata": {},
          "execution_count": 203
        }
      ]
    },
    {
      "cell_type": "code",
      "source": [
        "train_loss_data\n",
        "train_acc_data\n",
        "val_loss_data\n",
        "val_acc_data\n",
        "val_f1_data\n",
        "val_auc_data"
      ],
      "metadata": {
        "colab": {
          "base_uri": "https://localhost:8080/"
        },
        "id": "xAt8-BCViGyX",
        "outputId": "f6f31618-3f45-4aaf-f4c4-3600222f2082"
      },
      "execution_count": null,
      "outputs": [
        {
          "output_type": "execute_result",
          "data": {
            "text/plain": [
              "[0.8129066932244797,\n",
              " 0.8329325612086192,\n",
              " 0.8268559676884242,\n",
              " 0.8225689362364533,\n",
              " 0.8105795543623784,\n",
              " 0.824038719607961,\n",
              " 0.81366342882446,\n",
              " 0.8159833589529629,\n",
              " 0.802297469359556,\n",
              " 0.8138314431171048]"
            ]
          },
          "metadata": {},
          "execution_count": 204
        }
      ]
    },
    {
      "cell_type": "code",
      "source": [
        "import matplotlib.pyplot as plt\n",
        "\n",
        "plt.style.use('seaborn-whitegrid')\n",
        "\n",
        "# Generate x values (epochs)\n",
        "epochs = range(1, len(train_loss_data) + 1)\n",
        "\n",
        "# Create a new figure\n",
        "plt.figure(figsize=(12, 12))\n",
        "\n",
        "# Plot training loss and accuracy\n",
        "plt.subplot(2, 2, 1)\n",
        "plt.plot(epochs, train_loss_data, 'bo', label='Training loss')\n",
        "plt.plot(epochs, val_loss_data, 'b', label='Validation loss')\n",
        "plt.title('Training and Validation Loss')\n",
        "plt.xlabel('Epochs')\n",
        "plt.ylabel('Loss')\n",
        "plt.legend()\n",
        "\n",
        "plt.subplot(2, 2, 2)\n",
        "plt.plot(epochs, train_acc_data, 'bo', label='Training accuracy')\n",
        "plt.plot(epochs, val_acc_data, 'b', label='Validation accuracy')\n",
        "plt.title('Training and Validation Accuracy')\n",
        "plt.xlabel('Epochs')\n",
        "plt.ylabel('Accuracy')\n",
        "plt.legend()\n",
        "\n",
        "# Plot validation metrics\n",
        "plt.subplot(2, 2, 3)\n",
        "plt.plot(epochs, val_f1_data, 'b', label='Validation F1 Score')\n",
        "plt.title('Validation F1 Score')\n",
        "plt.xlabel('Epochs')\n",
        "plt.ylabel('F1 Score')\n",
        "plt.legend()\n",
        "\n",
        "plt.subplot(2, 2, 4)\n",
        "plt.plot(epochs, val_auc_data, 'b', label='Validation AUC Score')\n",
        "plt.title('Validation AUC Score')\n",
        "plt.xlabel('Epochs')\n",
        "plt.ylabel('AUC Score')\n",
        "plt.legend()\n",
        "\n",
        "# Display the figure\n",
        "plt.tight_layout()\n",
        "plt.show()\n"
      ],
      "metadata": {
        "colab": {
          "base_uri": "https://localhost:8080/",
          "height": 1000
        },
        "id": "pT1tmCAOixdE",
        "outputId": "08b7281c-5311-428a-dad8-793843877cb8"
      },
      "execution_count": null,
      "outputs": [
        {
          "output_type": "stream",
          "name": "stderr",
          "text": [
            "<ipython-input-206-4199a861a503>:3: MatplotlibDeprecationWarning: The seaborn styles shipped by Matplotlib are deprecated since 3.6, as they no longer correspond to the styles shipped by seaborn. However, they will remain available as 'seaborn-v0_8-<style>'. Alternatively, directly use the seaborn API instead.\n",
            "  plt.style.use('seaborn-whitegrid')\n"
          ]
        },
        {
          "output_type": "display_data",
          "data": {
            "text/plain": [
              "<Figure size 1200x1200 with 4 Axes>"
            ],
            "image/png": "[encoded data removed]"
          },
          "metadata": {}
        }
      ]
    },
    {
      "cell_type": "markdown",
      "source": [
        "# **TEST**"
      ],
      "metadata": {
        "id": "YarkiKXN1zCV"
      }
    }
  ]
}